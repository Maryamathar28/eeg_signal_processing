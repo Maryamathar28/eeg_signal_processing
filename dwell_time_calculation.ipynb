{
 "cells": [
  {
   "cell_type": "code",
   "execution_count": 8,
   "metadata": {},
   "outputs": [],
   "source": [
    "import csv\n",
    "import pandas as pd\n",
    "import numpy as np\n",
    "\n",
    "dts = []\n",
    "name = []\n",
    "\n",
    "folder_path = 'C:/Users/NCAI/Desktop/nf_dt/'\n",
    "\n",
    "for sub in range (17,19): \n",
    "    for day in range (1,3):\n",
    "        for ses in range (1,6):\n",
    "            prompt = 'S'+str(sub) + '/day'+str(day) + '/SUB'+str(sub) +'_D'+str(day) + '_MBP_S'+str(ses) +'.csv'\n",
    "            prompt_name = 'SUB_'+str(sub) + '_D'+str(day) + '_Ses'+str(ses)\n",
    "            dtses = pd.read_csv (prompt)\n",
    "            dt = sum(dtses['NFB_Score']) / len(dtses['NFB_Score'])\n",
    "            dts.append(dt)\n",
    "            name.append(prompt_name)\n",
    "#df = pd.DataFrame([name,dts], columns = ['name','dts'])\n",
    "#df.to_csv('Dt.csv')\n",
    "\n",
    "data = {\n",
    "  \"Name\": name,\n",
    "  \"Dwell time\": dts\n",
    "}\n",
    "\n",
    "#load data into a DataFrame object:\n",
    "df = pd.DataFrame(data)\n",
    "\n",
    "df.to_csv('Dt.csv')"
   ]
  },
  {
   "cell_type": "code",
   "execution_count": null,
   "metadata": {},
   "outputs": [],
   "source": []
  }
 ],
 "metadata": {
  "kernelspec": {
   "display_name": "Python 3",
   "language": "python",
   "name": "python3"
  },
  "language_info": {
   "codemirror_mode": {
    "name": "ipython",
    "version": 3
   },
   "file_extension": ".py",
   "mimetype": "text/x-python",
   "name": "python",
   "nbconvert_exporter": "python",
   "pygments_lexer": "ipython3",
   "version": "3.8.5"
  }
 },
 "nbformat": 4,
 "nbformat_minor": 4
}
