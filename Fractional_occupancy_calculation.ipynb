{
 "cells": [
  {
   "cell_type": "code",
   "execution_count": 16,
   "metadata": {},
   "outputs": [],
   "source": [
    "import pandas as pd\n",
    "\n",
    "# Function to calculate fractional occupancy\n",
    "def calculate_fractional_occupancy(file_path, target_value):\n",
    "    interval_count = 0\n",
    "    in_target_state = False\n",
    "\n",
    "    nfb_data = pd.read_csv(file_path)\n",
    "\n",
    "    for index, row in nfb_data.iterrows():\n",
    "        value = row['NFB_Score']\n",
    "\n",
    "        if value == target_value:\n",
    "            if not in_target_state:\n",
    "                in_target_state = True\n",
    "                interval_count += 1\n",
    "        else:\n",
    "            if in_target_state:\n",
    "                in_target_state = False\n",
    "\n",
    "    return interval_count \n",
    "\n",
    "# Create lists to store results\n",
    "results = []\n",
    "\n",
    "# Iterate through multiple CSV files\n",
    "for sub in range(17, 19):\n",
    "    for day in range(1, 3):\n",
    "        for ses in range(1, 6):\n",
    "            prompt = 'S'+str(sub) + '/day'+str(day) + '/SUB'+str(sub) +'_D'+str(day) + '_MBP_S'+str(ses) +'.csv'\n",
    "            prompt_name = 'SUB_'+str(sub) + '_D'+str(day) + '_Ses'+str(ses)\n",
    "            file_path = f'C:/Users/NCAI/Desktop/nf_dt/{prompt}'  # Adjust the file path as needed\n",
    "\n",
    "            # Define the target value (1 for active state)\n",
    "            target_value = 1\n",
    "\n",
    "            # Calculate fractional occupancy\n",
    "            fractional_occupancy = calculate_fractional_occupancy(file_path, target_value)\n",
    "\n",
    "            # Append results to the list\n",
    "            results.append({\n",
    "                \"Name\": prompt_name,\n",
    "                \"Fractional Occupancy\": fractional_occupancy\n",
    "            })\n",
    "\n",
    "# Create a DataFrame from the results\n",
    "df_results = pd.DataFrame(results)\n",
    "\n",
    "# Save the results to a CSV file\n",
    "df_results.to_csv('FO.csv', index=False)\n"
   ]
  },
  {
   "cell_type": "code",
   "execution_count": null,
   "metadata": {},
   "outputs": [],
   "source": []
  },
  {
   "cell_type": "code",
   "execution_count": null,
   "metadata": {},
   "outputs": [],
   "source": []
  }
 ],
 "metadata": {
  "kernelspec": {
   "display_name": "Python 3",
   "language": "python",
   "name": "python3"
  },
  "language_info": {
   "codemirror_mode": {
    "name": "ipython",
    "version": 3
   },
   "file_extension": ".py",
   "mimetype": "text/x-python",
   "name": "python",
   "nbconvert_exporter": "python",
   "pygments_lexer": "ipython3",
   "version": "3.8.5"
  }
 },
 "nbformat": 4,
 "nbformat_minor": 4
}
